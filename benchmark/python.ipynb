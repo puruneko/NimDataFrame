{
 "cells": [
  {
   "cell_type": "code",
   "execution_count": 1,
   "id": "bd854d5b-276a-4ba2-be91-a2ea0714c99a",
   "metadata": {},
   "outputs": [],
   "source": [
    "import pandas as pd\n",
    "import datetime"
   ]
  },
  {
   "cell_type": "code",
   "execution_count": 2,
   "id": "be38147a-57e0-4848-8983-7ab49e073c38",
   "metadata": {},
   "outputs": [
    {
     "data": {
      "text/html": [
       "<div>\n",
       "<style scoped>\n",
       "    .dataframe tbody tr th:only-of-type {\n",
       "        vertical-align: middle;\n",
       "    }\n",
       "\n",
       "    .dataframe tbody tr th {\n",
       "        vertical-align: top;\n",
       "    }\n",
       "\n",
       "    .dataframe thead th {\n",
       "        text-align: right;\n",
       "    }\n",
       "</style>\n",
       "<table border=\"1\" class=\"dataframe\">\n",
       "  <thead>\n",
       "    <tr style=\"text-align: right;\">\n",
       "      <th></th>\n",
       "      <th>name</th>\n",
       "      <th>sales</th>\n",
       "      <th>dummy</th>\n",
       "    </tr>\n",
       "    <tr>\n",
       "      <th>time</th>\n",
       "      <th></th>\n",
       "      <th></th>\n",
       "      <th></th>\n",
       "    </tr>\n",
       "  </thead>\n",
       "  <tbody>\n",
       "    <tr>\n",
       "      <th>2021-09-03 01:07:00</th>\n",
       "      <td>xuwsn</td>\n",
       "      <td>10300</td>\n",
       "      <td>NaN</td>\n",
       "    </tr>\n",
       "    <tr>\n",
       "      <th>2021-09-03 01:18:00</th>\n",
       "      <td>kqnrm</td>\n",
       "      <td>49337</td>\n",
       "      <td>NaN</td>\n",
       "    </tr>\n",
       "    <tr>\n",
       "      <th>2021-09-03 02:52:00</th>\n",
       "      <td>loooj</td>\n",
       "      <td>6831</td>\n",
       "      <td>NaN</td>\n",
       "    </tr>\n",
       "    <tr>\n",
       "      <th>2021-09-03 03:11:00</th>\n",
       "      <td>heeyf</td>\n",
       "      <td>45102</td>\n",
       "      <td>NaN</td>\n",
       "    </tr>\n",
       "    <tr>\n",
       "      <th>2021-09-03 04:21:00</th>\n",
       "      <td>kkocy</td>\n",
       "      <td>16011</td>\n",
       "      <td>NaN</td>\n",
       "    </tr>\n",
       "    <tr>\n",
       "      <th>...</th>\n",
       "      <td>...</td>\n",
       "      <td>...</td>\n",
       "      <td>...</td>\n",
       "    </tr>\n",
       "    <tr>\n",
       "      <th>2033-02-06 15:34:00</th>\n",
       "      <td>bhuht</td>\n",
       "      <td>28393</td>\n",
       "      <td>NaN</td>\n",
       "    </tr>\n",
       "    <tr>\n",
       "      <th>2033-02-06 17:17:00</th>\n",
       "      <td>pbblb</td>\n",
       "      <td>32229</td>\n",
       "      <td>NaN</td>\n",
       "    </tr>\n",
       "    <tr>\n",
       "      <th>2033-02-06 17:55:00</th>\n",
       "      <td>ltbmn</td>\n",
       "      <td>33222</td>\n",
       "      <td>NaN</td>\n",
       "    </tr>\n",
       "    <tr>\n",
       "      <th>2033-02-06 19:12:00</th>\n",
       "      <td>asahn</td>\n",
       "      <td>46400</td>\n",
       "      <td>NaN</td>\n",
       "    </tr>\n",
       "    <tr>\n",
       "      <th>2033-02-06 19:55:00</th>\n",
       "      <td>vgkeg</td>\n",
       "      <td>10091</td>\n",
       "      <td>NaN</td>\n",
       "    </tr>\n",
       "  </tbody>\n",
       "</table>\n",
       "<p>100000 rows × 3 columns</p>\n",
       "</div>"
      ],
      "text/plain": [
       "                      name  sales  dummy\n",
       "time                                    \n",
       "2021-09-03 01:07:00  xuwsn  10300    NaN\n",
       "2021-09-03 01:18:00  kqnrm  49337    NaN\n",
       "2021-09-03 02:52:00  loooj   6831    NaN\n",
       "2021-09-03 03:11:00  heeyf  45102    NaN\n",
       "2021-09-03 04:21:00  kkocy  16011    NaN\n",
       "...                    ...    ...    ...\n",
       "2033-02-06 15:34:00  bhuht  28393    NaN\n",
       "2033-02-06 17:17:00  pbblb  32229    NaN\n",
       "2033-02-06 17:55:00  ltbmn  33222    NaN\n",
       "2033-02-06 19:12:00  asahn  46400    NaN\n",
       "2033-02-06 19:55:00  vgkeg  10091    NaN\n",
       "\n",
       "[100000 rows x 3 columns]"
      ]
     },
     "execution_count": 2,
     "metadata": {},
     "output_type": "execute_result"
    }
   ],
   "source": [
    "df = pd.read_csv(\n",
    "    '../test/sample_data.csv'\n",
    ")\n",
    "df[\"time\"] = pd.Series([\n",
    "    datetime.datetime.strptime(y, \"%Y-%m-%d %H:%M:%S\")\n",
    "    for y in df[\"time\"]\n",
    "])\n",
    "df = df.set_index(\"time\")\n",
    "df"
   ]
  },
  {
   "cell_type": "code",
   "execution_count": 3,
   "id": "7378859f-8abc-4d08-9db8-af1da0922fec",
   "metadata": {},
   "outputs": [
    {
     "name": "stdout",
     "output_type": "stream",
     "text": [
      "103 ms ± 0 ns per loop (mean ± std. dev. of 1 run, 1 loop each)\n"
     ]
    }
   ],
   "source": [
    "%%timeit -n 1 -r 1\n",
    "df = pd.read_csv(\n",
    "    '../test/sample_data.csv'\n",
    ")"
   ]
  },
  {
   "cell_type": "code",
   "execution_count": 4,
   "id": "8425e992-4f4a-46e3-b39d-546403284aff",
   "metadata": {},
   "outputs": [],
   "source": [
    "comment='''\n",
    "%%timeit -n 1 -r 1\n",
    "pd.Series([\n",
    "    datetime.datetime.strptime(y, \"%Y-%m-%d %H:%M:%S\")\n",
    "    for y in df[\"time\"]\n",
    "])\n",
    "'''"
   ]
  },
  {
   "cell_type": "code",
   "execution_count": 5,
   "id": "120fdf4a-6a95-44c0-9e8d-37576902576b",
   "metadata": {},
   "outputs": [
    {
     "name": "stdout",
     "output_type": "stream",
     "text": [
      "13.7 ms ± 0 ns per loop (mean ± std. dev. of 1 run, 1 loop each)\n"
     ]
    }
   ],
   "source": [
    "%%timeit -n 1 -r 1\n",
    "df[df[\"sales\"] >= 2000]"
   ]
  },
  {
   "cell_type": "code",
   "execution_count": 6,
   "id": "0089d260-e6d2-4909-85ff-8b21ba719ff2",
   "metadata": {},
   "outputs": [
    {
     "name": "stdout",
     "output_type": "stream",
     "text": [
      "4.4 ms ± 0 ns per loop (mean ± std. dev. of 1 run, 1 loop each)\n"
     ]
    }
   ],
   "source": [
    "%%timeit -n 1 -r 1\n",
    "df[(df[\"sales\"]>1000)&(df[\"sales\"]<3000)]"
   ]
  },
  {
   "cell_type": "code",
   "execution_count": null,
   "id": "27b79516-f18f-4026-8473-91f5df6ceead",
   "metadata": {},
   "outputs": [],
   "source": []
  },
  {
   "cell_type": "code",
   "execution_count": 7,
   "id": "1a72ed88-0bc4-4fd7-9b07-ec89b9084dc9",
   "metadata": {},
   "outputs": [
    {
     "name": "stdout",
     "output_type": "stream",
     "text": [
      "72.5 ms ± 0 ns per loop (mean ± std. dev. of 1 run, 1 loop each)\n"
     ]
    }
   ],
   "source": [
    "%%timeit -n 1 -r 1\n",
    "df.sort_values(\"name\")"
   ]
  },
  {
   "cell_type": "code",
   "execution_count": 8,
   "id": "6dffa8f2-9ade-4767-a9f5-9eb15b11c556",
   "metadata": {},
   "outputs": [
    {
     "name": "stdout",
     "output_type": "stream",
     "text": [
      "69.9 ms ± 0 ns per loop (mean ± std. dev. of 1 run, 1 loop each)\n"
     ]
    }
   ],
   "source": [
    "%%timeit -n 1 -r 1\n",
    "df.sort_values(\"name\")"
   ]
  },
  {
   "cell_type": "code",
   "execution_count": 9,
   "id": "7a4fa139-1a11-4b88-b465-a03e219c4266",
   "metadata": {},
   "outputs": [
    {
     "name": "stdout",
     "output_type": "stream",
     "text": [
      "28.3 ms ± 0 ns per loop (mean ± std. dev. of 1 run, 1 loop each)\n"
     ]
    }
   ],
   "source": [
    "%%timeit -n 1 -r 1\n",
    "df.sort_values(\"sales\")"
   ]
  },
  {
   "cell_type": "code",
   "execution_count": 10,
   "id": "6783c878-51f3-4645-8820-e9e5b31e7eb4",
   "metadata": {},
   "outputs": [
    {
     "name": "stdout",
     "output_type": "stream",
     "text": [
      "9.66 ms ± 0 ns per loop (mean ± std. dev. of 1 run, 1 loop each)\n"
     ]
    }
   ],
   "source": [
    "%%timeit -n 1 -r 1\n",
    "df.sort_values(\"time\")"
   ]
  },
  {
   "cell_type": "code",
   "execution_count": null,
   "id": "f94fa177-01a4-4ce3-b91f-865542c22b1b",
   "metadata": {},
   "outputs": [],
   "source": []
  },
  {
   "cell_type": "code",
   "execution_count": 11,
   "id": "a1de4a0b-dfa8-410e-bdf1-7008e0d6e703",
   "metadata": {},
   "outputs": [
    {
     "name": "stdout",
     "output_type": "stream",
     "text": [
      "32.1 ms ± 0 ns per loop (mean ± std. dev. of 1 run, 1 loop each)\n"
     ]
    }
   ],
   "source": [
    "%%timeit -n 1 -r 1\n",
    "df.drop_duplicates()"
   ]
  },
  {
   "cell_type": "code",
   "execution_count": null,
   "id": "7c84f066-d0eb-426b-be73-e20d92093d69",
   "metadata": {},
   "outputs": [],
   "source": []
  },
  {
   "cell_type": "code",
   "execution_count": 12,
   "id": "5eff12af-9bdf-473c-8caa-90c102a758aa",
   "metadata": {},
   "outputs": [
    {
     "name": "stdout",
     "output_type": "stream",
     "text": [
      "59 ms ± 0 ns per loop (mean ± std. dev. of 1 run, 1 loop each)\n"
     ]
    }
   ],
   "source": [
    "%%timeit -n 1 -r 1\n",
    "df.groupby([\"time\",\"name\"]).mean()"
   ]
  },
  {
   "cell_type": "code",
   "execution_count": 13,
   "id": "19a9671a-8217-45dd-9d5e-f5d90fc4bee7",
   "metadata": {},
   "outputs": [
    {
     "name": "stdout",
     "output_type": "stream",
     "text": [
      "57 ms ± 0 ns per loop (mean ± std. dev. of 1 run, 1 loop each)\n"
     ]
    }
   ],
   "source": [
    "%%timeit -n 1 -r 1\n",
    "df.groupby([\"time\",\"name\"]).max()"
   ]
  },
  {
   "cell_type": "code",
   "execution_count": 14,
   "id": "0c6e96bf-fe5c-4f02-a697-554f81952bd7",
   "metadata": {},
   "outputs": [
    {
     "name": "stdout",
     "output_type": "stream",
     "text": [
      "6.2 s ± 0 ns per loop (mean ± std. dev. of 1 run, 1 loop each)\n"
     ]
    }
   ],
   "source": [
    "%%timeit -n 1 -r 1\n",
    "df.groupby([\"time\",\"name\"]).agg({\"sales\":lambda x: x.mean()/100})"
   ]
  },
  {
   "cell_type": "code",
   "execution_count": 28,
   "id": "ebcc8945-0929-4d4e-9cc6-70ca7b16e357",
   "metadata": {},
   "outputs": [
    {
     "name": "stdout",
     "output_type": "stream",
     "text": [
      "44.6 s ± 0 ns per loop (mean ± std. dev. of 1 run, 1 loop each)\n"
     ]
    }
   ],
   "source": [
    "%%timeit -n 1 -r 1\n",
    "def f(d):\n",
    "    c = 0\n",
    "    #if d[\"name\"].iloc[0] == df[\"name\"][0]:\n",
    "    #    c = d[\"sales\"].mean()/10\n",
    "    #else:\n",
    "    c = d[\"sales\"].mean()*10\n",
    "    return pd.Series({\n",
    "        \"sales_changed\": c\n",
    "    })\n",
    "df.groupby([\"time\",\"name\"]).apply(f)"
   ]
  },
  {
   "cell_type": "code",
   "execution_count": null,
   "id": "ed66622b-20bb-4a06-8f49-4b98dc498949",
   "metadata": {},
   "outputs": [],
   "source": []
  },
  {
   "cell_type": "code",
   "execution_count": 16,
   "id": "3f09feab-c63c-4898-a4bd-c367aab8f719",
   "metadata": {},
   "outputs": [
    {
     "name": "stdout",
     "output_type": "stream",
     "text": [
      "52.5 ms ± 0 ns per loop (mean ± std. dev. of 1 run, 1 loop each)\n"
     ]
    }
   ],
   "source": [
    "%%timeit -n 1 -r 1\n",
    "df.resample(\"H\").mean()"
   ]
  },
  {
   "cell_type": "code",
   "execution_count": 17,
   "id": "c85987aa-e37b-49aa-b7d6-907e42b874b9",
   "metadata": {},
   "outputs": [
    {
     "name": "stdout",
     "output_type": "stream",
     "text": [
      "34.9 ms ± 0 ns per loop (mean ± std. dev. of 1 run, 1 loop each)\n"
     ]
    }
   ],
   "source": [
    "%%timeit -n 1 -r 1\n",
    "df.resample(\"30T\").mean()"
   ]
  },
  {
   "cell_type": "code",
   "execution_count": 18,
   "id": "5a0b5cd3-93f3-49c6-b4c9-10f56dd97c2b",
   "metadata": {},
   "outputs": [
    {
     "name": "stdout",
     "output_type": "stream",
     "text": [
      "9.76 s ± 0 ns per loop (mean ± std. dev. of 1 run, 1 loop each)\n"
     ]
    }
   ],
   "source": [
    "%%timeit -n 1 -r 1\n",
    "df.resample(\"30T\").agg({\"sales\":lambda x: x.sum()*100})"
   ]
  },
  {
   "cell_type": "code",
   "execution_count": 19,
   "id": "c35491f2-e9b8-4efe-9a2d-69ae9f586e9f",
   "metadata": {},
   "outputs": [
    {
     "name": "stdout",
     "output_type": "stream",
     "text": [
      "1min 22s ± 0 ns per loop (mean ± std. dev. of 1 run, 1 loop each)\n"
     ]
    }
   ],
   "source": [
    "%%timeit -n 1 -r 1\n",
    "def f2(d):\n",
    "    c = 0\n",
    "    if len(d) == 0:\n",
    "        c = None\n",
    "    #elif d[\"name\"].iloc[0] == df[\"name\"][0]:\n",
    "    #    c = d[\"sales\"].mean()/10\n",
    "    else:\n",
    "        c = d[\"sales\"].mean()*10\n",
    "    return pd.Series({\n",
    "        \"sales_changed\": c\n",
    "    })\n",
    "df.resample(\"30T\").apply(f2)"
   ]
  },
  {
   "cell_type": "code",
   "execution_count": null,
   "id": "3f5257ee-89fa-4a7f-ade7-dfc4dba3f173",
   "metadata": {},
   "outputs": [],
   "source": []
  },
  {
   "cell_type": "code",
   "execution_count": 20,
   "id": "601e88ae-3d18-49e3-ac97-8871e39a6664",
   "metadata": {},
   "outputs": [
    {
     "name": "stdout",
     "output_type": "stream",
     "text": [
      "13.6 ms ± 0 ns per loop (mean ± std. dev. of 1 run, 1 loop each)\n"
     ]
    }
   ],
   "source": [
    "%%timeit -n 1 -r 1\n",
    "df.rolling(5).sum()"
   ]
  },
  {
   "cell_type": "code",
   "execution_count": 21,
   "id": "d13bfc0e-0384-4855-9794-9207dc41d30d",
   "metadata": {},
   "outputs": [
    {
     "name": "stdout",
     "output_type": "stream",
     "text": [
      "15.1 s ± 0 ns per loop (mean ± std. dev. of 1 run, 1 loop each)\n"
     ]
    }
   ],
   "source": [
    "%%timeit -n 1 -r 1\n",
    "def f3(d):\n",
    "    c = 0\n",
    "    if len(d) == 0:\n",
    "        c = None\n",
    "    #elif df.loc[d.index, \"name\"][0] == df[\"name\"][0]:\n",
    "    #    c = d.mean()/10\n",
    "    else:\n",
    "        c = d.mean()*10\n",
    "    return c\n",
    "df.rolling(5).apply(f3)"
   ]
  },
  {
   "cell_type": "code",
   "execution_count": 29,
   "id": "87e22504-c5d9-43bb-b7d9-eb2702aac5aa",
   "metadata": {},
   "outputs": [
    {
     "name": "stdout",
     "output_type": "stream",
     "text": [
      "17.1 ms ± 0 ns per loop (mean ± std. dev. of 1 run, 1 loop each)\n"
     ]
    }
   ],
   "source": [
    "%%timeit -n 1 -r 1\n",
    "df.rolling(\"H\").sum()"
   ]
  },
  {
   "cell_type": "code",
   "execution_count": 23,
   "id": "404d2785-90f6-4bb4-acb4-30d9d1d35af1",
   "metadata": {},
   "outputs": [
    {
     "name": "stdout",
     "output_type": "stream",
     "text": [
      "15 s ± 0 ns per loop (mean ± std. dev. of 1 run, 1 loop each)\n"
     ]
    }
   ],
   "source": [
    "%%timeit -n 1 -r 1\n",
    "def f3(d):\n",
    "    c = 0\n",
    "    if len(d) == 0:\n",
    "        c = None\n",
    "    #elif df.loc[d.index, \"name\"][0] == df[\"name\"][0]:\n",
    "    #    c = d.mean()/10\n",
    "    else:\n",
    "        c = d.mean()*10\n",
    "    return c\n",
    "df.rolling(\"H\").apply(f3)"
   ]
  },
  {
   "cell_type": "code",
   "execution_count": 24,
   "id": "b568c76e-d156-4e4b-abf4-7b935ae2ab83",
   "metadata": {},
   "outputs": [
    {
     "name": "stdout",
     "output_type": "stream",
     "text": [
      "15 s ± 0 ns per loop (mean ± std. dev. of 1 run, 1 loop each)\n"
     ]
    }
   ],
   "source": [
    "%%timeit -n 1 -r 1\n",
    "def f3(d):\n",
    "    c = 0\n",
    "    if len(d) == 0:\n",
    "        c = None\n",
    "    #elif df.loc[d.index, \"name\"][0] == df[\"name\"][0]:\n",
    "    #    c = d.mean()/10\n",
    "    else:\n",
    "        c = d.mean()*10\n",
    "    return c\n",
    "df.rolling(\"30T\").apply(f3)"
   ]
  },
  {
   "cell_type": "code",
   "execution_count": null,
   "id": "77f55de9-bac9-4e8e-b73f-83d6acc34902",
   "metadata": {},
   "outputs": [],
   "source": []
  }
 ],
 "metadata": {
  "kernelspec": {
   "display_name": "Python 3",
   "language": "python",
   "name": "python3"
  },
  "language_info": {
   "codemirror_mode": {
    "name": "ipython",
    "version": 3
   },
   "file_extension": ".py",
   "mimetype": "text/x-python",
   "name": "python",
   "nbconvert_exporter": "python",
   "pygments_lexer": "ipython3",
   "version": "3.9.5"
  }
 },
 "nbformat": 4,
 "nbformat_minor": 5
}
